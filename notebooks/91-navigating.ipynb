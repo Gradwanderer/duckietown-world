version https://git-lfs.github.com/spec/v1
oid sha256:18a1e76b15e09d1e40e5d8b582f12525cd7b521db1e733d7a13c7b2854183757
size 8127
